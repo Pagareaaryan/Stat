{
  "cells": [
    {
      "cell_type": "markdown",
      "source": [
        "# New section"
      ],
      "metadata": {
        "id": "L5ZrZUDPGdTn"
      }
    },
    {
      "cell_type": "markdown",
      "source": [
        "# What is statistics, and why is it important\n",
        "Statistics is the science of collecting, analyzing, interpreting, and presenting data. It is important because it helps in making informed decisions using data.\n",
        "\n",
        "# What are the two main types of statistics\n",
        "Descriptive Statistics and Inferential Statistics.\n",
        "\n",
        "# What are descriptive statistics\n",
        "Descriptive statistics summarize and organize data using measures like mean, median, mode, and standard deviation.\n",
        "\n",
        "# What is inferential statistics\n",
        "Inferential statistics use a sample of data to make generalizations, predictions, or decisions about a population.\n",
        "\n",
        "# What is sampling in statistics\n",
        "Sampling is the process of selecting a subset of individuals from a population to estimate characteristics of the whole population.\n",
        "\n",
        "# What are the different types of sampling methods\n",
        "Simple random sampling, stratified sampling, systematic sampling, cluster sampling, and convenience sampling.\n",
        "\n",
        "# What is the difference between random and non-random sampling\n",
        "Random sampling gives all individuals equal chance of selection, while non-random sampling does not, leading to potential bias.\n",
        "\n",
        "# Define and give examples of qualitative and quantitative data\n",
        "Qualitative data describes qualities (e.g., colors, names), while quantitative data involves numbers (e.g., height, age).\n",
        "\n",
        "# What are the different types of data in statistics\n",
        "Nominal, Ordinal, Interval, and Ratio.\n",
        "\n",
        "# Explain nominal, ordinal, interval, and ratio levels of measurement\n",
        "Nominal: categories (e.g., gender); Ordinal: order matters (e.g., rankings); Interval: equal intervals, no true zero (e.g., temperature); Ratio: true zero (e.g., weight).\n",
        "\n",
        "# What is the measure of central tendency\n",
        "It is a value that represents the center point of a dataset (mean, median, mode).\n",
        "\n",
        "# Define mean, median, and mode\n",
        "Mean: average; Median: middle value; Mode: most frequent value.\n",
        "\n",
        "# What is the significance of the measure of central tendency\n",
        "It provides a summary statistic to understand where most values in a dataset lie.\n",
        "\n",
        "# What is variance, and how is it calculated\n",
        "Variance measures data spread; calculated as the average of squared deviations from the mean.\n",
        "\n",
        "# What is standard deviation, and why is it important\n",
        "Standard deviation is the square root of variance; it shows how much data varies from the mean.\n",
        "\n",
        "# Define and explain the term range in statistics\n",
        "Range is the difference between the maximum and minimum values in a dataset.\n",
        "\n",
        "# What is the difference between variance and standard deviation\n",
        "Variance is the average squared deviation, while standard deviation is its square root and in the same unit as the data.\n",
        "\n",
        "# What is skewness in a dataset\n",
        "Skewness measures the asymmetry of the data distribution.\n",
        "\n",
        "# What does it mean if a dataset is positively or negatively skewed\n",
        "Positive skew: tail on the right; Negative skew: tail on the left.\n",
        "\n",
        "# Define and explain kurtosis\n",
        "Kurtosis measures the \"tailedness\" of a distribution—how heavy or light the tails are compared to a normal distribution.\n",
        "\n",
        "# What is the purpose of covariance\n",
        "Covariance shows how two variables change together (direction of relationship).\n",
        "\n",
        "# What does correlation measure in statistics\n",
        "Correlation measures the strength and direction of the linear relationship between two variables.\n",
        "\n",
        "# What is the difference between covariance and correlation\n",
        "Covariance measures direction of relation; correlation standardizes this to a range from -1 to 1.\n",
        "\n",
        "# What are some real-world applications of statistics?\n",
        "Statistics is used in medicine (clinical trials), economics (market trends), sports (performance analysis), and business (decision-making).\n"
      ],
      "metadata": {
        "id": "4mpIUOFaMU3W"
      }
    },
    {
      "cell_type": "code",
      "source": [
        "# How do you calculate the mean, median, and mode of a dataset\n",
        "import statistics as stats\n",
        "data = [10, 20, 20, 30, 40]\n",
        "mean = stats.mean(data)\n",
        "median = stats.median(data)\n",
        "mode = stats.mode(data)\n"
      ],
      "metadata": {
        "id": "oVh_ZSVHVxQv"
      },
      "execution_count": null,
      "outputs": []
    },
    {
      "cell_type": "code",
      "source": [
        "# Write a Python program to compute the variance and standard deviation of a dataset\n",
        "import statistics as stats\n",
        "data = [10, 20, 30, 40, 50]\n",
        "variance = stats.variance(data)\n",
        "std_dev = stats.stdev(data)\n"
      ],
      "metadata": {
        "id": "-5UiJnfkVyKV"
      },
      "execution_count": null,
      "outputs": []
    },
    {
      "cell_type": "code",
      "source": [
        "# Create a dataset and classify it into nominal, ordinal, interval, and ratio types\n",
        "dataset = {\n",
        "    \"Nominal\": [\"Red\", \"Blue\", \"Green\"],\n",
        "    \"Ordinal\": [\"Poor\", \"Average\", \"Good\", \"Excellent\"],\n",
        "    \"Interval\": [10, 20, 30],  # No true zero\n",
        "    \"Ratio\": [0, 5, 10, 15]    # True zero exists\n",
        "}\n"
      ],
      "metadata": {
        "id": "58xM3rBiV0rT"
      },
      "execution_count": null,
      "outputs": []
    },
    {
      "cell_type": "code",
      "source": [
        "# Implement sampling techniques like random sampling and stratified sampling\n",
        "import random\n",
        "population = list(range(1, 101))\n",
        "random_sample = random.sample(population, 10)\n",
        "group_A = list(range(1, 51))\n",
        "group_B = list(range(51, 101))\n",
        "stratified_sample = random.sample(group_A, 5) + random.sample(group_B, 5)\n"
      ],
      "metadata": {
        "id": "M-vWHCL0V26Z"
      },
      "execution_count": null,
      "outputs": []
    },
    {
      "cell_type": "code",
      "source": [
        "# Write a Python function to calculate the range of a dataset\n",
        "def calculate_range(data):\n",
        "    return max(data) - min(data)\n",
        "calculate_range([5, 10, 15, 20, 25])\n"
      ],
      "metadata": {
        "id": "cDegjGXWV44Q"
      },
      "execution_count": null,
      "outputs": []
    },
    {
      "cell_type": "code",
      "source": [
        "# Create a dataset and plot its histogram to visualize skewness\n",
        "import matplotlib.pyplot as plt\n",
        "import numpy as np\n",
        "data = np.random.exponential(scale=2, size=1000)\n",
        "plt.hist(data, bins=30)\n",
        "plt.title(\"Histogram to Visualize Skewness\")\n",
        "plt.show()\n"
      ],
      "metadata": {
        "id": "6QSKDmf_V6zF"
      },
      "execution_count": null,
      "outputs": []
    },
    {
      "cell_type": "code",
      "source": [
        "# Calculate skewness and kurtosis of a dataset using Python libraries\n",
        "from scipy.stats import skew, kurtosis\n",
        "data = np.random.normal(0, 1, 1000)\n",
        "data_skewness = skew(data)\n",
        "data_kurtosis = kurtosis(data)\n"
      ],
      "metadata": {
        "id": "EZkpOgDtV8sd"
      },
      "execution_count": null,
      "outputs": []
    },
    {
      "cell_type": "code",
      "source": [
        "# Generate a dataset and demonstrate positive and negative skewness\n",
        "pos_skew = np.random.exponential(scale=2, size=1000)\n",
        "neg_skew = -np.random.exponential(scale=2, size=1000)\n",
        "plt.hist(pos_skew, bins=30, alpha=0.5, label=\"Positive Skew\")\n",
        "plt.hist(neg_skew, bins=30, alpha=0.5, label=\"Negative Skew\")\n",
        "plt.legend()\n",
        "plt.title(\"Positive and Negative Skewness\")\n",
        "plt.show()\n"
      ],
      "metadata": {
        "id": "yHBIId2WV-VO"
      },
      "execution_count": null,
      "outputs": []
    },
    {
      "cell_type": "code",
      "source": [
        "# Write a Python script to calculate covariance between two datasets\n",
        "def covariance(x, y):\n",
        "    mean_x = np.mean(x)\n",
        "    mean_y = np.mean(y)\n",
        "    cov = np.mean((x - mean_x) * (y - mean_y))\n",
        "    return cov\n",
        "x = np.array([1, 2, 3, 4, 5])\n",
        "y = np.array([2, 4, 6, 8, 10])\n",
        "covariance(x, y)\n"
      ],
      "metadata": {
        "id": "boW5NqI-WAD2"
      },
      "execution_count": null,
      "outputs": []
    },
    {
      "cell_type": "code",
      "source": [
        "# Write a Python script to calculate the correlation coefficient between two datasets\n",
        "from scipy.stats import pearsonr\n",
        "corr_coef, _ = pearsonr(x, y)\n"
      ],
      "metadata": {
        "id": "IhqW2D5bWBma"
      },
      "execution_count": null,
      "outputs": []
    },
    {
      "cell_type": "code",
      "source": [
        "# Create a scatter plot to visualize the relationship between two variables\n",
        "plt.scatter(x, y)\n",
        "plt.title(\"Scatter Plot\")\n",
        "plt.xlabel(\"X\")\n",
        "plt.ylabel(\"Y\")\n",
        "plt.show()\n"
      ],
      "metadata": {
        "id": "Gzj-X75JWD_7"
      },
      "execution_count": null,
      "outputs": []
    },
    {
      "cell_type": "code",
      "source": [
        "# Implement and compare simple random sampling and systematic sampling\n",
        "simple_sample = random.sample(population, 10)\n",
        "k = 10\n",
        "systematic_sample = [population[i] for i in range(0, len(population), k)]\n"
      ],
      "metadata": {
        "id": "IE_TnDPzWHQQ"
      },
      "execution_count": null,
      "outputs": []
    },
    {
      "cell_type": "code",
      "source": [
        "# Calculate the mean, median, and mode of grouped data\n",
        "intervals = [15, 25, 35, 45, 55]\n",
        "frequencies = [4, 6, 10, 5, 3]\n",
        "grouped_mean = sum([i * f for i, f in zip(intervals, frequencies)]) / sum(frequencies)\n"
      ],
      "metadata": {
        "id": "hZUnaCCwWIq_"
      },
      "execution_count": null,
      "outputs": []
    },
    {
      "cell_type": "code",
      "source": [
        "# Simulate data using Python and calculate its central tendency and dispersion\n",
        "sim_data = np.random.randint(10, 100, size=50)\n",
        "sim_mean = np.mean(sim_data)\n",
        "sim_median = np.median(sim_data)\n",
        "sim_std = np.std(sim_data)\n",
        "sim_var = np.var(sim_data)\n"
      ],
      "metadata": {
        "id": "uZyhZHayWKF0"
      },
      "execution_count": null,
      "outputs": []
    },
    {
      "cell_type": "code",
      "source": [
        "# Use NumPy or pandas to summarize a dataset’s descriptive statistics\n",
        "import pandas as pd\n",
        "df = pd.DataFrame(sim_data, columns=[\"Values\"])\n",
        "summary = df.describe()\n"
      ],
      "metadata": {
        "id": "27K5HGN0WLmc"
      },
      "execution_count": null,
      "outputs": []
    },
    {
      "cell_type": "code",
      "source": [
        "# Plot a boxplot to understand the spread and identify outliers\n",
        "plt.boxplot(sim_data)\n",
        "plt.title(\"Boxplot\")\n",
        "plt.show()\n"
      ],
      "metadata": {
        "id": "K4RDzwaTWNNH"
      },
      "execution_count": null,
      "outputs": []
    },
    {
      "cell_type": "code",
      "source": [
        "# Calculate the interquartile range (IQR) of a dataset\n",
        "Q1 = np.percentile(sim_data, 25)\n",
        "Q3 = np.percentile(sim_data, 75)\n",
        "IQR = Q3 - Q1\n"
      ],
      "metadata": {
        "id": "6bH4jIELWPrv"
      },
      "execution_count": null,
      "outputs": []
    },
    {
      "cell_type": "code",
      "source": [
        "# Implement Z-score normalization and explain its significance\n",
        "z_scores = (sim_data - np.mean(sim_data)) / np.std(sim_data)\n",
        "# Z-score normalization is used to scale data for comparison or machine learning algorithms.\n"
      ],
      "metadata": {
        "id": "dwLxbsupWRkd"
      },
      "execution_count": null,
      "outputs": []
    },
    {
      "cell_type": "code",
      "source": [
        "# Compare two datasets using their standard deviations\n",
        "data1 = np.random.normal(50, 5, 100)\n",
        "data2 = np.random.normal(50, 15, 100)\n",
        "std1 = np.std(data1)\n",
        "std2 = np.std(data2)\n"
      ],
      "metadata": {
        "id": "AaXUKFM-WUsg"
      },
      "execution_count": null,
      "outputs": []
    },
    {
      "cell_type": "code",
      "source": [
        "# Write a Python program to visualize covariance using a heatmap\n",
        "import seaborn as sns\n",
        "df2 = pd.DataFrame({\"x\": data1, \"y\": data2})\n",
        "cov_matrix = df2.cov()\n",
        "sns.heatmap(cov_matrix, annot=True)\n",
        "plt.title(\"Covariance Heatmap\")\n",
        "plt.show()\n"
      ],
      "metadata": {
        "id": "IENg29JDWWtB"
      },
      "execution_count": null,
      "outputs": []
    },
    {
      "cell_type": "code",
      "source": [
        "# Visualize skewness and kurtosis using Python libraries like matplotlib or seaborn\n",
        "sns.histplot(rand_data, kde=True)\n",
        "plt.title(\"Distribution with KDE\")\n",
        "plt.show()\n",
        "print(\"Skewness:\", skew(rand_data))\n",
        "print(\"Kurtosis:\", kurtosis(rand_data))\n"
      ],
      "metadata": {
        "id": "pcOjbX6gWYMh"
      },
      "execution_count": null,
      "outputs": []
    },
    {
      "cell_type": "code",
      "source": [
        "# Implement the Pearson and Spearman correlation coefficients for a dataset\n",
        "from scipy.stats import spearmanr\n",
        "pearson_corr, _ = pearsonr(data1, data2)\n",
        "spearman_corr, _ = spearmanr(data1, data2)\n"
      ],
      "metadata": {
        "id": "u3amGx9TWave"
      },
      "execution_count": null,
      "outputs": []
    }
  ],
  "metadata": {
    "colab": {
      "name": "Welcome to Colab",
      "provenance": []
    },
    "kernelspec": {
      "display_name": "Python 3",
      "name": "python3"
    }
  },
  "nbformat": 4,
  "nbformat_minor": 0
}